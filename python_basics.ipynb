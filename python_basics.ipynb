{
 "cells": [
  {
   "attachments": {},
   "cell_type": "markdown",
   "metadata": {},
   "source": [
    "# Welcome to your (potentially) first experience with the Python programming language.\n",
    "\n",
    "This is a so called \"Jupyter Notebook\". \n",
    "\n",
    "Python code is often written completely before being executed and stored in a *.py* file. This is what PsychoPy does when you create an experiment ...\n",
    "\n",
    "In Jupyter Notebook, in contrast, you get to run pieces (chunks) of code individually, which makes it (imo) easier to get used to writing code. \n",
    "\n",
    "In a Notebook, there are two types of basic *cells*:\n",
    "\n",
    "1. Markdown cells (like this one) in which you can write plain text formatted using the *Markdown* language\n",
    "\n",
    "2. Code cells in which you can write Python (or other) code and that you can execute individually.\n",
    "\n",
    "See the examples below:"
   ]
  },
  {
   "attachments": {},
   "cell_type": "markdown",
   "metadata": {},
   "source": [
    "I am a Markdown cell and I contain text. This text can be formatted using simple commands.\n",
    "\n",
    "# This is a first-order heading\n",
    "\n",
    "## This is a second-order heading\n",
    "\n",
    "*This is italicized text*\n",
    "\n",
    "**This is bold text**\n",
    "\n",
    "1. This is the first point of a numbered list\n",
    "\n",
    "- This is the first point of an unnumbered list\n",
    "\n",
    "... and so on. If you were daring enough, you could write an entire thesis using Markdown for the formatting."
   ]
  },
  {
   "cell_type": "code",
   "execution_count": 2,
   "metadata": {},
   "outputs": [
    {
     "name": "stdout",
     "output_type": "stream",
     "text": [
      "I am a code cell!\n"
     ]
    }
   ],
   "source": [
    "# I am a code cell and I contain Python code. This code can be run by pressing 'ctrl + enter' / 'cmd + enter'\n",
    "\n",
    "print(\"I am a code cell!\")"
   ]
  },
  {
   "attachments": {},
   "cell_type": "markdown",
   "metadata": {},
   "source": [
    "From here on, you will be creating your own cells ..."
   ]
  }
 ],
 "metadata": {
  "kernelspec": {
   "display_name": "Python 3",
   "language": "python",
   "name": "python3"
  },
  "language_info": {
   "codemirror_mode": {
    "name": "ipython",
    "version": 3
   },
   "file_extension": ".py",
   "mimetype": "text/x-python",
   "name": "python",
   "nbconvert_exporter": "python",
   "pygments_lexer": "ipython3",
   "version": "3.8.10"
  },
  "orig_nbformat": 4
 },
 "nbformat": 4,
 "nbformat_minor": 2
}
